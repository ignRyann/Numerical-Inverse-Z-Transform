{
 "cells": [
  {
   "cell_type": "markdown",
   "metadata": {},
   "source": [
    "# Papers"
   ]
  },
  {
   "cell_type": "markdown",
   "metadata": {},
   "source": [
    "\"The Fourier-series method for inverting transforms of probability distributions\" by Abate, Joseph and Whitt, Ward (1992) [https://link.springer.com/article/10.1007/BF01158520]"
   ]
  },
  {
   "cell_type": "markdown",
   "metadata": {},
   "source": [
    "\"Numerical inversion of probability generating functions\" by Abate, Joseph and Whitt, Ward (1992) [https://www.sciencedirect.com/science/article/abs/pii/016763779290050D]"
   ]
  },
  {
   "cell_type": "markdown",
   "metadata": {},
   "source": [
    "# Implementation"
   ]
  },
  {
   "cell_type": "markdown",
   "metadata": {},
   "source": [
    "#### $f(n) \\approx \\frac{1}{2n\\rho^n} \\left( \\tilde{f}(\\rho) + 2\\sum^{n-1}_{k=1}(-1)^k Re\\tilde{f}(\\rho e^{ik \\pi / n}) + (-1)^n\\tilde{f}(-\\rho) \\right) $"
   ]
  },
  {
   "cell_type": "code",
   "execution_count": 5,
   "metadata": {},
   "outputs": [],
   "source": [
    "import numpy as np"
   ]
  },
  {
   "cell_type": "code",
   "execution_count": 6,
   "metadata": {},
   "outputs": [],
   "source": [
    "def abate_whitt(ftilde, n, lmbda):\n",
    "    rho = 10 ** (-lmbda / (2 * n))\n",
    "\n",
    "    summation = 0\n",
    "    for k in range(1, n):\n",
    "        z = 1 / (rho * np.exp(1j * k * np.pi / n))\n",
    "        term = ftilde(z)\n",
    "        summation += ((-1)**k) * np.real(term)\n",
    "    summation *= 2\n",
    "    additive = ftilde(1 / rho) + summation + ((-1)**n) * ftilde(1 / -rho)\n",
    "    scale_factor = 1 / (2 * n * rho**n)\n",
    "\n",
    "    return scale_factor * additive"
   ]
  },
  {
   "cell_type": "markdown",
   "metadata": {},
   "source": [
    "# Well-Defined Transform Pairs"
   ]
  },
  {
   "cell_type": "markdown",
   "metadata": {},
   "source": [
    "### Heaviside Step Function"
   ]
  },
  {
   "cell_type": "markdown",
   "metadata": {},
   "source": [
    "For any value of $n$, our result should be close to $1$"
   ]
  },
  {
   "cell_type": "code",
   "execution_count": 15,
   "metadata": {},
   "outputs": [],
   "source": [
    "def f(n):\n",
    "    return 1\n",
    "\n",
    "def ftilde(z):\n",
    "    return z / (z-1)"
   ]
  },
  {
   "cell_type": "code",
   "execution_count": 17,
   "metadata": {},
   "outputs": [
    {
     "name": "stdout",
     "output_type": "stream",
     "text": [
      "Estimate:\t 1.0000100001000154\n",
      "Actual:\t 1\n"
     ]
    }
   ],
   "source": [
    "n = 50\n",
    "lmbda = 5\n",
    "\n",
    "print(\"Estimate:\\t\", abate_whitt(ftilde, n, lmbda))\n",
    "print(\"Actual:\\t\", f(n))"
   ]
  },
  {
   "cell_type": "markdown",
   "metadata": {},
   "source": [
    "### Polynomial Function"
   ]
  },
  {
   "cell_type": "markdown",
   "metadata": {},
   "source": [
    "For any value of $n$, our result should be $n$"
   ]
  },
  {
   "cell_type": "code",
   "execution_count": 19,
   "metadata": {},
   "outputs": [],
   "source": [
    "def f(n):\n",
    "    return n\n",
    "\n",
    "def ftilde(z):\n",
    "    return z / (z-1)**2"
   ]
  },
  {
   "cell_type": "code",
   "execution_count": 20,
   "metadata": {},
   "outputs": [
    {
     "name": "stdout",
     "output_type": "stream",
     "text": [
      "Estimate:\t 10.000300005000067\n",
      "Actual:\t 10\n"
     ]
    }
   ],
   "source": [
    "n = 10\n",
    "lmbda = 5\n",
    "\n",
    "print(\"Estimate:\\t\", abate_whitt(ftilde, n, lmbda))\n",
    "print(\"Actual:\\t\", f(n))"
   ]
  },
  {
   "cell_type": "code",
   "execution_count": null,
   "metadata": {},
   "outputs": [],
   "source": []
  }
 ],
 "metadata": {
  "kernelspec": {
   "display_name": "Python 3",
   "language": "python",
   "name": "python3"
  },
  "language_info": {
   "codemirror_mode": {
    "name": "ipython",
    "version": 3
   },
   "file_extension": ".py",
   "mimetype": "text/x-python",
   "name": "python",
   "nbconvert_exporter": "python",
   "pygments_lexer": "ipython3",
   "version": "3.11.4"
  }
 },
 "nbformat": 4,
 "nbformat_minor": 2
}
