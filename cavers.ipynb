{
 "cells": [
  {
   "cell_type": "markdown",
   "metadata": {},
   "source": [
    "# Papers"
   ]
  },
  {
   "cell_type": "markdown",
   "metadata": {},
   "source": [
    "\"On the fast Fourier transform inversion of probability generating functions\" by Cavers, JK (1978) [https://academic.oup.com/imamat/article-abstract/22/3/275/892525?login=false]"
   ]
  },
  {
   "cell_type": "markdown",
   "metadata": {},
   "source": [
    "# Implementation"
   ]
  },
  {
   "cell_type": "markdown",
   "metadata": {},
   "source": [
    "#### $ f(n) \\approx r^n \\cdot \\text{IFFT} \\left[ \\tilde{f}(re^{2\\pi i k / N}) \\right] $"
   ]
  },
  {
   "cell_type": "code",
   "execution_count": 1,
   "metadata": {},
   "outputs": [],
   "source": [
    "import numpy as np"
   ]
  },
  {
   "cell_type": "code",
   "execution_count": 2,
   "metadata": {},
   "outputs": [],
   "source": [
    "def cavers(ftilde, n, N, gamma):\n",
    "    r = 10 ** (gamma / (N))\n",
    "    k = np.arange(N)\n",
    "    z = r * np.exp(1j * 2 * np.pi * k / (N))\n",
    "    F = np.fft.ifft(ftilde(z))\n",
    "    f = r ** n * F[n]\n",
    "    return f"
   ]
  },
  {
   "cell_type": "markdown",
   "metadata": {},
   "source": [
    "# Well-Defined Transform Pairs"
   ]
  },
  {
   "cell_type": "markdown",
   "metadata": {},
   "source": [
    "### Heaviside Step Function"
   ]
  },
  {
   "cell_type": "code",
   "execution_count": 52,
   "metadata": {},
   "outputs": [],
   "source": [
    "def f(n):\n",
    "    return 1\n",
    "\n",
    "def ftilde(z):\n",
    "    return z / (z-1)"
   ]
  },
  {
   "cell_type": "code",
   "execution_count": 53,
   "metadata": {},
   "outputs": [
    {
     "name": "stdout",
     "output_type": "stream",
     "text": [
      "Estimate:\t 1.000010000099952\n",
      "Actual:\t 1\n"
     ]
    }
   ],
   "source": [
    "n = np.arange(1, 51)\n",
    "N = 2 * n[-1]\n",
    "gamma = 5\n",
    "f_approx = np.real(cavers(ftilde, n, N, gamma))\n",
    "\n",
    "print(\"Estimate:\\t\", f_approx[-1])\n",
    "print(\"Actual:\\t\", f(n[-1]))"
   ]
  },
  {
   "cell_type": "markdown",
   "metadata": {},
   "source": [
    "### Polynomial Function"
   ]
  },
  {
   "cell_type": "markdown",
   "metadata": {},
   "source": [
    "For any value of $n$, our result should be $n$"
   ]
  },
  {
   "cell_type": "code",
   "execution_count": 54,
   "metadata": {},
   "outputs": [],
   "source": [
    "def f(n):\n",
    "    return n\n",
    "\n",
    "def ftilde(z):\n",
    "    return z / (z-1)**2"
   ]
  },
  {
   "cell_type": "code",
   "execution_count": 55,
   "metadata": {},
   "outputs": [
    {
     "name": "stdout",
     "output_type": "stream",
     "text": [
      "Estimate:\t 50.001500024999615\n",
      "Actual:\t 50\n"
     ]
    }
   ],
   "source": [
    "n = np.arange(1, 51)\n",
    "N = 2 * n[-1]\n",
    "gamma = 5\n",
    "f_approx = np.real(cavers(ftilde, n, N, gamma))\n",
    "\n",
    "print(\"Estimate:\\t\", f_approx[-1])\n",
    "print(\"Actual:\\t\", f(n[-1]))"
   ]
  },
  {
   "cell_type": "code",
   "execution_count": null,
   "metadata": {},
   "outputs": [],
   "source": []
  }
 ],
 "metadata": {
  "kernelspec": {
   "display_name": "Python 3",
   "language": "python",
   "name": "python3"
  },
  "language_info": {
   "codemirror_mode": {
    "name": "ipython",
    "version": 3
   },
   "file_extension": ".py",
   "mimetype": "text/x-python",
   "name": "python",
   "nbconvert_exporter": "python",
   "pygments_lexer": "ipython3",
   "version": "3.11.4"
  }
 },
 "nbformat": 4,
 "nbformat_minor": 2
}
